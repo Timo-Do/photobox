{
 "cells": [
  {
   "cell_type": "code",
   "execution_count": null,
   "id": "d593ea25-9345-4e83-9cca-3ccabae883bc",
   "metadata": {
    "execution": {
     "iopub.execute_input": "2022-04-07T11:05:07.177592Z",
     "iopub.status.busy": "2022-04-07T11:05:07.176797Z",
     "iopub.status.idle": "2022-04-07T11:05:07.181078Z",
     "shell.execute_reply": "2022-04-07T11:05:07.180336Z",
     "shell.execute_reply.started": "2022-04-07T11:05:07.177548Z"
    }
   },
   "outputs": [],
   "source": [
    "import tensorflow as tf\n",
    "import numpy as np\n",
    "from tensorflow.keras import datasets, layers, models\n",
    "import matplotlib.pyplot as plt\n"
   ]
  },
  {
   "cell_type": "code",
   "execution_count": null,
   "id": "86b3897e-e6c9-4c32-a876-e4fd766e0520",
   "metadata": {
    "execution": {
     "iopub.execute_input": "2022-04-07T11:05:09.120954Z",
     "iopub.status.busy": "2022-04-07T11:05:09.120709Z",
     "iopub.status.idle": "2022-04-07T11:05:09.546787Z",
     "shell.execute_reply": "2022-04-07T11:05:09.546014Z",
     "shell.execute_reply.started": "2022-04-07T11:05:09.120931Z"
    }
   },
   "outputs": [],
   "source": [
    "loaded = np.load(\"../data/processed/data32.npz\")\n",
    "\n",
    "train_images = loaded[\"train_images\"]\n",
    "test_images = loaded[\"test_images\"]\n",
    "train_labels = loaded[\"train_labels\"]\n",
    "test_labels = loaded[\"test_labels\"]\n",
    "\n",
    "SIZE = train_images[0].shape[0]"
   ]
  },
  {
   "cell_type": "code",
   "execution_count": null,
   "id": "3698ef59-7e63-4b95-94b0-ddf818a85b15",
   "metadata": {
    "execution": {
     "iopub.execute_input": "2022-04-07T11:05:12.813002Z",
     "iopub.status.busy": "2022-04-07T11:05:12.812306Z",
     "iopub.status.idle": "2022-04-07T11:05:13.875715Z",
     "shell.execute_reply": "2022-04-07T11:05:13.874880Z",
     "shell.execute_reply.started": "2022-04-07T11:05:12.812967Z"
    }
   },
   "outputs": [],
   "source": [
    "\n",
    "\n",
    "plt.figure(figsize=(10,10))\n",
    "for i in range(25):\n",
    "    plt.subplot(5,5,i+1)\n",
    "    plt.xticks([])\n",
    "    plt.yticks([])\n",
    "    plt.grid(False)\n",
    "    idx = np.random.choice(len(train_images))\n",
    "    plt.imshow(train_images[idx], cmap = \"gray\")\n",
    "    if(train_labels[idx] == 1):\n",
    "        text = \"Smiling\"\n",
    "    else:\n",
    "        text = \"Not Smiling\"\n",
    "    plt.xlabel(text, color = \"white\")\n",
    "plt.show()"
   ]
  },
  {
   "cell_type": "code",
   "execution_count": null,
   "id": "fe8d3296-f912-458d-a5c5-6c21f4fd39fd",
   "metadata": {
    "execution": {
     "iopub.execute_input": "2022-04-07T11:10:13.208836Z",
     "iopub.status.busy": "2022-04-07T11:10:13.208564Z",
     "iopub.status.idle": "2022-04-07T11:10:13.275599Z",
     "shell.execute_reply": "2022-04-07T11:10:13.274940Z",
     "shell.execute_reply.started": "2022-04-07T11:10:13.208806Z"
    }
   },
   "outputs": [],
   "source": [
    "model = models.Sequential()\n",
    "model.add(layers.Conv2D(SIZE, (3, 3), activation='relu', input_shape=(SIZE, SIZE, 1)))\n",
    "model.add(layers.MaxPooling2D((2, 2)))\n",
    "model.add(layers.Conv2D(SIZE * 2, (3, 3), activation='relu'))\n",
    "model.add(layers.MaxPooling2D((2, 2)))\n",
    "model.add(layers.Flatten())\n",
    "model.add(layers.Dropout(0.3))\n",
    "model.add(layers.Dense(SIZE, activation='relu'))\n",
    "model.add(layers.Dropout(0.3))\n",
    "model.add(layers.Dense(SIZE, activation='relu'))\n",
    "model.add(layers.Dense(1))\n",
    "model.summary()"
   ]
  },
  {
   "cell_type": "code",
   "execution_count": null,
   "id": "e07de88f-b792-4c67-b7e4-d1fb1d9c2bfd",
   "metadata": {
    "execution": {
     "iopub.execute_input": "2022-04-07T11:10:15.717723Z",
     "iopub.status.busy": "2022-04-07T11:10:15.717467Z",
     "iopub.status.idle": "2022-04-07T11:10:15.726139Z",
     "shell.execute_reply": "2022-04-07T11:10:15.725569Z",
     "shell.execute_reply.started": "2022-04-07T11:10:15.717698Z"
    }
   },
   "outputs": [],
   "source": [
    "model.compile(optimizer='adam',\n",
    "              loss=tf.keras.losses.BinaryCrossentropy(from_logits=True),\n",
    "              metrics=['accuracy'])\n",
    "\n"
   ]
  },
  {
   "cell_type": "code",
   "execution_count": null,
   "id": "fbb75840-1cb1-4f54-8b64-4ac4fb366e7b",
   "metadata": {
    "execution": {
     "iopub.execute_input": "2022-04-07T11:10:26.117596Z",
     "iopub.status.busy": "2022-04-07T11:10:26.116860Z",
     "iopub.status.idle": "2022-04-07T11:11:05.177403Z",
     "shell.execute_reply": "2022-04-07T11:11:05.176541Z",
     "shell.execute_reply.started": "2022-04-07T11:10:26.117569Z"
    }
   },
   "outputs": [],
   "source": [
    "history = model.fit(train_images, train_labels, epochs=25, \n",
    "                    validation_data=(test_images, test_labels))\n",
    "\n",
    "plt.plot(history.history['accuracy'], label='accuracy')\n",
    "plt.plot(history.history['val_accuracy'], label = 'val_accuracy')\n",
    "plt.xlabel('Epoch')\n",
    "plt.ylabel('Accuracy')\n",
    "plt.ylim([0.0, 1])\n",
    "plt.legend(loc='lower right')\n"
   ]
  },
  {
   "cell_type": "code",
   "execution_count": null,
   "id": "382136f8-5aee-4f55-87bf-e2547d9bdd6f",
   "metadata": {
    "execution": {
     "iopub.execute_input": "2022-04-07T11:38:46.815518Z",
     "iopub.status.busy": "2022-04-07T11:38:46.814507Z",
     "iopub.status.idle": "2022-04-07T11:38:49.810431Z",
     "shell.execute_reply": "2022-04-07T11:38:49.809507Z",
     "shell.execute_reply.started": "2022-04-07T11:38:46.815474Z"
    }
   },
   "outputs": [],
   "source": [
    "test_loss, test_acc = model.evaluate(test_images,  test_labels, verbose=2)\n",
    "print(test_acc)\n",
    "\n",
    "plt.figure(figsize=(10,10))\n",
    "for i in range(25):\n",
    "    plt.subplot(5,5,i+1)\n",
    "    plt.xticks([])\n",
    "    plt.yticks([])\n",
    "    plt.grid(False)\n",
    "    idx = np.random.choice(len(test_images))\n",
    "    plt.imshow(test_images[idx], cmap = \"gray\")\n",
    "    text = \"{:.2f}\".format(tf.math.sigmoid(model.predict(np.array( [test_images[idx],]))[0][0]))\n",
    "    plt.xlabel(text, color = \"white\")\n",
    "plt.show()"
   ]
  },
  {
   "cell_type": "code",
   "execution_count": null,
   "id": "5f765b93-2761-4395-8ae3-0d0115da31a6",
   "metadata": {
    "execution": {
     "iopub.execute_input": "2022-04-07T11:39:05.687478Z",
     "iopub.status.busy": "2022-04-07T11:39:05.687232Z",
     "iopub.status.idle": "2022-04-07T11:39:07.846230Z",
     "shell.execute_reply": "2022-04-07T11:39:07.845454Z",
     "shell.execute_reply.started": "2022-04-07T11:39:05.687454Z"
    }
   },
   "outputs": [],
   "source": [
    "model.save(\"model_\" + str(SIZE))"
   ]
  }
 ],
 "metadata": {
  "kernelspec": {
   "display_name": "Python 3 (ipykernel)",
   "language": "python",
   "name": "python3"
  },
  "language_info": {
   "codemirror_mode": {
    "name": "ipython",
    "version": 3
   },
   "file_extension": ".py",
   "mimetype": "text/x-python",
   "name": "python",
   "nbconvert_exporter": "python",
   "pygments_lexer": "ipython3",
   "version": "3.10.4"
  }
 },
 "nbformat": 4,
 "nbformat_minor": 5
}
